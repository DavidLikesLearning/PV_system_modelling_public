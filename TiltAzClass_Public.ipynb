{
 "cells": [
  {
   "cell_type": "markdown",
   "id": "0117096d",
   "metadata": {},
   "source": [
    "## Tilt and Azimuth Extraction from .kml Files"
   ]
  },
  {
   "cell_type": "markdown",
   "id": "d2b5a85d",
   "metadata": {},
   "source": [
    "this notebook searches the defined folder for kml files and generates a KmlTri class which works on triangles in 3D space and prints the azimuthal and surface tilt angle of a panel in the same plane as the triangle"
   ]
  },
  {
   "cell_type": "code",
   "execution_count": 4,
   "id": "c342f2dd",
   "metadata": {},
   "outputs": [],
   "source": [
    "import numpy as np\n",
    "import os\n",
    "from reports.KmlTri import KmlTri"
   ]
  },
  {
   "cell_type": "code",
   "execution_count": 5,
   "id": "08980a3f",
   "metadata": {},
   "outputs": [],
   "source": [
    "folder = None"
   ]
  },
  {
   "cell_type": "code",
   "execution_count": 21,
   "id": "9f35a89d",
   "metadata": {
    "scrolled": false
   },
   "outputs": [],
   "source": [
    "def GetTiltAz(fold = None, site = None):\n",
    "#the site argument serves to select a filename of interest and output \n",
    "#the distribution of tilts and azimuths for all triangles included\n",
    "    files = os.listdir(fold)\n",
    "    for k in files:\n",
    "        if '.kml' in k:\n",
    "            print(k)\n",
    "            if fold != None:\n",
    "                tri = KmlTri(fold+k)\n",
    "            else:\n",
    "                tri = KmlTri(k)\n",
    "            print('tilts: ',np.round(np.median(tri.tilts),4),\n",
    "                  'azimuths: ',np.round(np.median(tri.azimuths),4))\n",
    "            print('tilts std: ',np.round(np.std(tri.tilts),4),\n",
    "                  'azimuths std: ',np.round(np.std(tri.azimuths),4),'\\n\\n')\n",
    "            if site != None:\n",
    "                if site.upper() in k:\n",
    "                    print('\\n'+'### SITE ###'*7+'\\n\\n',\n",
    "                          (k),\n",
    "                          '\\nAll tilts:\\n',\n",
    "                          np.round((tri.tilts),4),\n",
    "                          '\\nAll azimtuhs:\\n',\n",
    "                          np.round((tri.azimuths),4),\n",
    "                          '\\n','\\n'+'### SITE ###'*7+'\\n\\n')"
   ]
  },
  {
   "cell_type": "code",
   "execution_count": 22,
   "id": "1cf161c3",
   "metadata": {
    "scrolled": false
   },
   "outputs": [
    {
     "name": "stdout",
     "output_type": "stream",
     "text": [
      "SampleLoc1.kml\n",
      "tilts:  11.7474 azimuths:  8.3725\n",
      "tilts std:  1.7652 azimuths std:  161.3682 \n",
      "\n",
      "\n",
      "SampleLoc2.kml\n",
      "tilts:  0.0027 azimuths:  84.5759\n",
      "tilts std:  0.0041 azimuths std:  76.8897 \n",
      "\n",
      "\n",
      "\n",
      "### SITE ###### SITE ###### SITE ###### SITE ###### SITE ###### SITE ###### SITE ###\n",
      "\n",
      " SampleLoc2.kml \n",
      "All tilts:\n",
      " [0.0068 0.0025 0.0129 0.0028 0.0008 0.0027] \n",
      "All azimtuhs:\n",
      " [222.0889 190.5192  23.0125  88.384   22.1441  80.7678] \n",
      " \n",
      "### SITE ###### SITE ###### SITE ###### SITE ###### SITE ###### SITE ###### SITE ###\n",
      "\n",
      "\n",
      "SampleLoc3.kml\n",
      "tilts:  0.0007 azimuths:  181.9096\n",
      "tilts std:  0.0003 azimuths std:  99.6781 \n",
      "\n",
      "\n"
     ]
    }
   ],
   "source": [
    "GetTiltAz(site='2')"
   ]
  },
  {
   "cell_type": "code",
   "execution_count": null,
   "id": "75d92a9f",
   "metadata": {},
   "outputs": [],
   "source": []
  }
 ],
 "metadata": {
  "kernelspec": {
   "display_name": "Python 3",
   "language": "python",
   "name": "python3"
  },
  "language_info": {
   "codemirror_mode": {
    "name": "ipython",
    "version": 3
   },
   "file_extension": ".py",
   "mimetype": "text/x-python",
   "name": "python",
   "nbconvert_exporter": "python",
   "pygments_lexer": "ipython3",
   "version": "3.7.6"
  }
 },
 "nbformat": 4,
 "nbformat_minor": 5
}
